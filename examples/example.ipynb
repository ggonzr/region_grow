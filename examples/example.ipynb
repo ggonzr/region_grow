{
 "cells": [
  {
   "cell_type": "markdown",
   "metadata": {},
   "source": [
    "# Create a new polygon \n",
    "\n",
    "Today, we are going to calculate a polygon for a sugar cane crop located in Boyaca, Colombia. The input data is a set of points near to the crop and the main goal is to find the mininum polygon which covers all the crop area only using a little number of the given examples and a satellite image. The satellite image is a 3 band raster of a Sentinel 2A scene. The bands we use are: Band 11 (Short Wave Infrared - I), Band 8 (Near Infrared) and Band 2 (Blue). The cell resolution is 10m X 10m per pixel. For band 11 we made a resampling process using a bilinear transformation.\n",
    "\n",
    "The given points were taken at the sugar cane crop borders. Near to this crop we have other crops like yucca and corn and non crops areas like native forest. The blue area is the sugar cane area, manually delimited, we want to achieve. The pink area is the corn corp, the yellov the yucca crop and the orange area is the native forest. The green points are the points given and the red one is the first"
   ]
  },
  {
   "cell_type": "markdown",
   "metadata": {},
   "source": [
    "![crop area](crop/photos/area.png \"Crop area\")"
   ]
  },
  {
   "cell_type": "markdown",
   "metadata": {},
   "source": [
    "Now let's see the points set given"
   ]
  },
  {
   "cell_type": "code",
   "execution_count": 1,
   "metadata": {},
   "outputs": [],
   "source": [
    "# Libraries\n",
    "import pandas as pd\n",
    "import region_grow as rg"
   ]
  },
  {
   "cell_type": "markdown",
   "metadata": {},
   "source": [
    "The .csv separator __MUST__ be \";\" and decimal separator __MUST__ be \",\". If not, the library will fail. Also, the X coordinate column __MUST__ have the title of \"LONGITUD\" and the Y coordinate the title of \"LATITUD\". If you have in mind to use an aproximate area to calculate the polygon, you have to specify this area in the column \"HECTAREAS\". The unit of measurement for the area is the hectare (ha)"
   ]
  },
  {
   "cell_type": "code",
   "execution_count": 2,
   "metadata": {},
   "outputs": [
    {
     "data": {
      "text/html": [
       "<div>\n",
       "<style scoped>\n",
       "    .dataframe tbody tr th:only-of-type {\n",
       "        vertical-align: middle;\n",
       "    }\n",
       "\n",
       "    .dataframe tbody tr th {\n",
       "        vertical-align: top;\n",
       "    }\n",
       "\n",
       "    .dataframe thead th {\n",
       "        text-align: right;\n",
       "    }\n",
       "</style>\n",
       "<table border=\"1\" class=\"dataframe\">\n",
       "  <thead>\n",
       "    <tr style=\"text-align: right;\">\n",
       "      <th></th>\n",
       "      <th>LATITUD</th>\n",
       "      <th>LONGITUD</th>\n",
       "      <th>HECTAREAS</th>\n",
       "    </tr>\n",
       "  </thead>\n",
       "  <tbody>\n",
       "    <tr>\n",
       "      <th>0</th>\n",
       "      <td>5.804699</td>\n",
       "      <td>-73.570783</td>\n",
       "      <td>1.00051</td>\n",
       "    </tr>\n",
       "    <tr>\n",
       "      <th>1</th>\n",
       "      <td>5.804793</td>\n",
       "      <td>-73.570280</td>\n",
       "      <td>1.00051</td>\n",
       "    </tr>\n",
       "    <tr>\n",
       "      <th>2</th>\n",
       "      <td>5.804531</td>\n",
       "      <td>-73.570187</td>\n",
       "      <td>1.00051</td>\n",
       "    </tr>\n",
       "  </tbody>\n",
       "</table>\n",
       "</div>"
      ],
      "text/plain": [
       "    LATITUD   LONGITUD  HECTAREAS\n",
       "0  5.804699 -73.570783    1.00051\n",
       "1  5.804793 -73.570280    1.00051\n",
       "2  5.804531 -73.570187    1.00051"
      ]
     },
     "execution_count": 2,
     "metadata": {},
     "output_type": "execute_result"
    }
   ],
   "source": [
    "df = pd.read_csv(\"crop/crop_points.csv\", sep=\";\", decimal=\",\")\n",
    "df.head(3)"
   ]
  },
  {
   "cell_type": "markdown",
   "metadata": {},
   "source": [
    "Finally, let's execute the algorithm to calculate this polygon. In this time, we will use the similarity threshold. This algorithm only use the first given point and expands the region scanning the 8-neighbors of the pixel. The pixel is chosen only if the refrectancy is on the +- range of reflectancy of the given point. When the the aproximately area is given. The algorithm recalculates the polygon minimizing the difference"
   ]
  },
  {
   "cell_type": "code",
   "execution_count": 3,
   "metadata": {},
   "outputs": [],
   "source": [
    "shape_path = \"crop/example.shp\"\n",
    "raster_path = \"crop/A_crop.tif\"\n",
    "points_path = \"crop/crop_points.csv\""
   ]
  },
  {
   "cell_type": "code",
   "execution_count": 4,
   "metadata": {},
   "outputs": [
    {
     "name": "stderr",
     "output_type": "stream",
     "text": [
      "WARNING:root:[BandThreshold - Classifier] ATENCION: El conjunto de datos de pixeles semilla tiene mas de 1 registro, solo se utilizara el primero. \n",
      "Por favor considere ejecutar de nuevo este algoritmo pasando en el .csv unicamente las coordenadas del punto de interes\n",
      "\n",
      "WARNING:root:[BandThreshold - Classifier] ATENCION: El conjunto de datos de pixeles semilla tiene mas de 1 registro, solo se utilizara el primero. \n",
      "Por favor considere ejecutar de nuevo este algoritmo pasando en el .csv unicamente las coordenadas del punto de interes\n",
      "\n"
     ]
    }
   ],
   "source": [
    "rg.execute_with_area(\n",
    "    points_path=points_path,\n",
    "    raster_path=raster_path,\n",
    "    shape_path=shape_path,\n",
    "    classifier_tag=\"BD\",    \n",
    ")"
   ]
  },
  {
   "cell_type": "markdown",
   "metadata": {},
   "source": [
    "Above, a warning message has been shown indicating that only the first point of the dataset will be use. The last because the dataset had more than one element. To conclude, let's see the result polygon"
   ]
  },
  {
   "cell_type": "markdown",
   "metadata": {},
   "source": [
    "![crop area](crop/photos/polygon.png \"Crop area\")"
   ]
  },
  {
   "cell_type": "markdown",
   "metadata": {},
   "source": [
    "The red polygon was the generated one, it fills almost all the expected region ! Moreover, the green line polygon was created using spectral indexes EVI, ARVI and GNDVI and it gives an interesting result too, grouping all crops in the scene. \n",
    "\n",
    "If you want more details about the decisions i made to find the best method to fit new polygons and why i chose this band combination, let me invite you to read my article which will be available in this repository.\n",
    "\n",
    "Thank you so much for reading and hope this project will be usefull for you\n",
    "\n",
    "Best regards\n",
    "\n",
    "Geovanny"
   ]
  }
 ],
 "metadata": {
  "kernelspec": {
   "display_name": "Python [conda env:test] *",
   "language": "python",
   "name": "conda-env-test-py"
  },
  "language_info": {
   "codemirror_mode": {
    "name": "ipython",
    "version": 3
   },
   "file_extension": ".py",
   "mimetype": "text/x-python",
   "name": "python",
   "nbconvert_exporter": "python",
   "pygments_lexer": "ipython3",
   "version": "3.7.9"
  }
 },
 "nbformat": 4,
 "nbformat_minor": 4
}
